{
 "cells": [
  {
   "cell_type": "code",
   "execution_count": null,
   "id": "initial_id",
   "metadata": {
    "collapsed": true
   },
   "outputs": [],
   "source": [
    "import scipy.stats as sps\n",
    "import numpy as np\n",
    "\n",
    "import matplotlib.pyplot as plt\n",
    "import matplotlib as mpl\n",
    "import seaborn as sns"
   ]
  },
  {
   "cell_type": "code",
   "execution_count": null,
   "id": "f6748bb54655cf55",
   "metadata": {
    "collapsed": false
   },
   "outputs": [],
   "source": [
    "plt.rcParams ['figure.figsize'] = [20, 5]"
   ]
  },
  {
   "cell_type": "code",
   "execution_count": null,
   "id": "6c049e757eb7848f",
   "metadata": {
    "collapsed": false
   },
   "outputs": [],
   "source": [
    "def bins_calculation(sample, border):\n",
    "    return (int((max(sample) - min(sample) / border)) + 1) * 5"
   ]
  },
  {
   "cell_type": "code",
   "execution_count": null,
   "id": "856fb88f71ef1e12",
   "metadata": {
    "collapsed": false
   },
   "outputs": [],
   "source": [
    "def compare_with_continuous_dist(distribution, distribution_text, bins_calculation, border):\n",
    "    plt.subplots_adjust(wspace=0.3, hspace=0.4)\n",
    "    for i, N in enumerate({20, 100, 500}):\n",
    "        plt.subplot(1, 3, i + 1)\n",
    "        sample = distribution.rvs(size=N)\n",
    "        grid = np.linspace(-border, border, 1000)\n",
    "        sns.histplot(data=sample, bins= bins_calculation(sample, border), stat='density')\n",
    "        sns.lineplot(x=grid, y = distribution.pdf(grid), linewidth = 4, color=\"red\")\n",
    "        plt.title(f\"Sampling from the {distribution_text} distribution N = {N}\")\n",
    "        plt.xlabel(f\"{distribution_text} numbers\")\n",
    "        plt.xlim(-border, border)\n",
    "    plt.savefig(f\"{distribution_text}_distribution\")"
   ]
  },
  {
   "cell_type": "code",
   "execution_count": null,
   "id": "6c405f405b4bf491",
   "metadata": {
    "collapsed": false
   },
   "outputs": [],
   "source": [
    "compare_with_continuous_dist(sps.norm, \"Normal\", bins_calculation, 5)"
   ]
  },
  {
   "cell_type": "code",
   "execution_count": null,
   "id": "497c87a5c6a18c65",
   "metadata": {
    "collapsed": false
   },
   "outputs": [],
   "source": [
    "compare_with_continuous_dist(sps.cauchy, \"Cauchy\", bins_calculation, 5)"
   ]
  },
  {
   "cell_type": "code",
   "execution_count": null,
   "id": "7748854dad12014a",
   "metadata": {
    "collapsed": false
   },
   "outputs": [],
   "source": [
    "compare_with_continuous_dist(sps.t(3), \"Student's\", bins_calculation, 5)"
   ]
  },
  {
   "cell_type": "code",
   "execution_count": null,
   "id": "8d65af14344cd317",
   "metadata": {
    "collapsed": false
   },
   "outputs": [],
   "source": [
    "compare_with_continuous_dist(sps.uniform(loc=-3**0.5, scale = 2 * 3**0.5), \"Uniform\", bins_calculation, 3**0.5)"
   ]
  },
  {
   "cell_type": "code",
   "execution_count": null,
   "id": "638487b00e9eba4b",
   "metadata": {
    "collapsed": false
   },
   "outputs": [],
   "source": [
    "def compare_with_discrete_dist(distribution, distribution_text, bins_calculation, border):\n",
    "    plt.subplots_adjust(wspace=0.3, hspace=0.4)\n",
    "    for i, N in enumerate({20, 100, 500}):\n",
    "        plt.subplot(1, 3, i + 1)\n",
    "        sample = distribution.rvs(size=N)\n",
    "        grid = range(0, border + 1)\n",
    "        sns.histplot(data=sample, bins=10, stat='density')\n",
    "        sns.lineplot(x=grid, y = distribution.pmf(grid), linewidth = 4, color=\"red\")\n",
    "        plt.title(f\"Sampling from the {distribution_text} distribution N = {N}\")\n",
    "        plt.xlabel(f\"{distribution_text} numbers\")\n",
    "        plt.xlim(0, border)\n",
    "    plt.savefig(f\"{distribution_text} distribution\")"
   ]
  },
  {
   "cell_type": "code",
   "execution_count": null,
   "id": "3468ec2ee47720ad",
   "metadata": {
    "collapsed": false
   },
   "outputs": [],
   "source": [
    "compare_with_discrete_dist(sps.poisson(10), \"Poisson\", bins_calculation, 20)"
   ]
  }
 ],
 "metadata": {
  "kernelspec": {
   "display_name": "Python 3",
   "language": "python",
   "name": "python3"
  },
  "language_info": {
   "codemirror_mode": {
    "name": "ipython",
    "version": 2
   },
   "file_extension": ".py",
   "mimetype": "text/x-python",
   "name": "python",
   "nbconvert_exporter": "python",
   "pygments_lexer": "ipython2",
   "version": "2.7.6"
  }
 },
 "nbformat": 4,
 "nbformat_minor": 5
}
