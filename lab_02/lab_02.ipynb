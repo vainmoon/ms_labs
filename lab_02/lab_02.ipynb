{
 "cells": [
  {
   "cell_type": "code",
   "execution_count": null,
   "id": "initial_id",
   "metadata": {
    "collapsed": true
   },
   "outputs": [],
   "source": [
    "import scipy.stats as sps\n",
    "import numpy as np\n",
    "import pandas as pd\n",
    "\n",
    "import matplotlib.pyplot as plt\n",
    "import matplotlib as mpl\n",
    "import seaborn as sns"
   ]
  },
  {
   "cell_type": "code",
   "outputs": [],
   "source": [
    "position_characteristics_for_all_N = {}\n",
    "for N in {20, 100, 500}:\n",
    "    position_characteristics_for_all_N[N] = pd.DataFrame({\"sample_average\" : [],\n",
    "                                   \"sample_median\" : [],\n",
    "                                   \"half_sum_extreme_elements\" : [],\n",
    "                                   \"half_sum_quartiles\" : [],\n",
    "                                   \"truncated_average\" : []})\n",
    "    for i in range(1000):\n",
    "        temp_position_characteristics = []\n",
    "        sample = sps.norm.rvs(size=N)\n",
    "        sample.sort()\n",
    "        temp_position_characteristics.append(np.mean(sample))\n",
    "        temp_position_characteristics.append(np.median(sample))\n",
    "        temp_position_characteristics.append((sample[0] + sample[-1]) / 2)\n",
    "        temp_position_characteristics.append((np.quantile(sample, 0.25) + np.quantile(sample, 0.75)) / 2)\n",
    "        temp_position_characteristics.append(np.mean(sample[int(N * 0.25) : int(N * 0.75)]))\n",
    "\n",
    "        position_characteristics_for_all_N[N].loc[len(position_characteristics_for_all_N[N].index)] = temp_position_characteristics"
   ],
   "metadata": {
    "collapsed": false
   },
   "id": "ec9f54b576682d4a",
   "execution_count": null
  },
  {
   "cell_type": "code",
   "outputs": [],
   "source": [
    "results = pd.DataFrame()\n",
    "for N in {20, 100, 500}:\n",
    "    results = pd.concat([results, position_characteristics_for_all_N[N].\n",
    "                        agg([\"mean\", lambda x: x.var(ddof=0)]).\n",
    "                        rename(index={\"mean\":f\"E(z) for N = {N}\", \"<lambda>\":f\"D(z) for N = {N}\"})])"
   ],
   "metadata": {
    "collapsed": false
   },
   "id": "30729a18acceeb4b",
   "execution_count": null
  },
  {
   "cell_type": "code",
   "outputs": [],
   "source": [
    "results.to_excel(\"results.xlsx\")"
   ],
   "metadata": {
    "collapsed": false
   },
   "id": "e73e8acc27e9b038",
   "execution_count": null
  }
 ],
 "metadata": {
  "kernelspec": {
   "display_name": "Python 3",
   "language": "python",
   "name": "python3"
  },
  "language_info": {
   "codemirror_mode": {
    "name": "ipython",
    "version": 2
   },
   "file_extension": ".py",
   "mimetype": "text/x-python",
   "name": "python",
   "nbconvert_exporter": "python",
   "pygments_lexer": "ipython2",
   "version": "2.7.6"
  }
 },
 "nbformat": 4,
 "nbformat_minor": 5
}
