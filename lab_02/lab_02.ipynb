{
 "cells": [
  {
   "cell_type": "code",
   "execution_count": 3,
   "id": "initial_id",
   "metadata": {
    "collapsed": true,
    "ExecuteTime": {
     "end_time": "2024-03-14T16:32:36.276659100Z",
     "start_time": "2024-03-14T16:32:36.263633500Z"
    }
   },
   "outputs": [],
   "source": [
    "import scipy.stats as sps\n",
    "import numpy as np\n",
    "import pandas as pd\n",
    "\n",
    "import matplotlib.pyplot as plt\n",
    "import matplotlib as mpl\n",
    "import seaborn as sns"
   ]
  },
  {
   "cell_type": "code",
   "outputs": [],
   "source": [
    "def calculate_table(distribution):\n",
    "    position_characteristics_for_all_N = {}\n",
    "    for N in {20, 100, 500}:\n",
    "        position_characteristics_for_all_N[N] = pd.DataFrame({\"sample_average\" : [],\n",
    "                                       \"sample_median\" : [],\n",
    "                                       \"half_sum_extreme_elements\" : [],\n",
    "                                       \"half_sum_quartiles\" : [],\n",
    "                                       \"truncated_average\" : []})\n",
    "        for i in range(100):\n",
    "            temp_position_characteristics = []\n",
    "            sample = distribution.rvs(size=N)\n",
    "            sample.sort()\n",
    "            temp_position_characteristics.append(np.mean(sample))\n",
    "            temp_position_characteristics.append(np.median(sample))\n",
    "            temp_position_characteristics.append((sample[0] + sample[-1]) / 2)\n",
    "            temp_position_characteristics.append((np.quantile(sample, 0.25) + np.quantile(sample, 0.75)) / 2)\n",
    "            temp_position_characteristics.append(np.mean(sample[int(N * 0.25) : int(N * 0.75)]))\n",
    "    \n",
    "            position_characteristics_for_all_N[N].loc[len(position_characteristics_for_all_N[N].index)] = temp_position_characteristics\n",
    "        results = pd.DataFrame()\n",
    "    for N in {20, 100, 500}:\n",
    "        results = pd.concat([results, position_characteristics_for_all_N[N].\n",
    "                            agg([\"mean\", lambda x: x.var(ddof=0)]).\n",
    "                            rename(index={\"mean\":f\"E(z) for N = {N}\", \"<lambda>\":f\"D(z) for N = {N}\"})])\n",
    "    return results"
   ],
   "metadata": {
    "collapsed": false,
    "ExecuteTime": {
     "end_time": "2024-03-14T16:32:36.446688300Z",
     "start_time": "2024-03-14T16:32:36.434095600Z"
    }
   },
   "id": "ec9f54b576682d4a",
   "execution_count": 4
  },
  {
   "cell_type": "code",
   "outputs": [],
   "source": [
    "distributions = [[sps.norm, \"Normal\"],\n",
    "                 [sps.cauchy, \"Cauchy\"],\n",
    "                 [sps.t(3), \"Student's\"],\n",
    "                 [sps.uniform(loc=-3**0.5, scale = 2 * 3**0.5), \"Uniform\"],\n",
    "                 [sps.poisson(10), \"Poisson\"]]\n",
    "for distribution in distributions:\n",
    "    calculate_table(distribution[0]).to_excel(f\"{distribution[1]}_distribution.xlsx\")"
   ],
   "metadata": {
    "collapsed": false,
    "ExecuteTime": {
     "end_time": "2024-03-14T16:32:38.948695Z",
     "start_time": "2024-03-14T16:32:36.783550300Z"
    }
   },
   "id": "3338ade541d4e4db",
   "execution_count": 5
  },
  {
   "cell_type": "code",
   "outputs": [],
   "source": [],
   "metadata": {
    "collapsed": false
   },
   "id": "d38bb39a9a1d177"
  }
 ],
 "metadata": {
  "kernelspec": {
   "display_name": "Python 3",
   "language": "python",
   "name": "python3"
  },
  "language_info": {
   "codemirror_mode": {
    "name": "ipython",
    "version": 2
   },
   "file_extension": ".py",
   "mimetype": "text/x-python",
   "name": "python",
   "nbconvert_exporter": "python",
   "pygments_lexer": "ipython2",
   "version": "2.7.6"
  }
 },
 "nbformat": 4,
 "nbformat_minor": 5
}
