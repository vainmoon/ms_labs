{
 "cells": [
  {
   "cell_type": "code",
   "execution_count": null,
   "id": "initial_id",
   "metadata": {
    "collapsed": true
   },
   "outputs": [],
   "source": [
    "import scipy.stats as sps\n",
    "import numpy as np\n",
    "import pandas as pd\n",
    "\n",
    "import matplotlib.pyplot as plt\n",
    "import matplotlib as mpl\n",
    "import seaborn as sns"
   ]
  },
  {
   "cell_type": "code",
   "outputs": [],
   "source": [
    "def build_box_plot(N_range, distribution, distribution_name):\n",
    "    samples = {}\n",
    "    for N in N_range:\n",
    "        sample = distribution.rvs(size=N)\n",
    "        samples[N] = sample\n",
    "\n",
    "    sns.set(style=\"whitegrid\")\n",
    "    plt.figure(figsize=(10, 6))\n",
    "    sns.boxplot(data=samples, fill=False, orient=\"h\")\n",
    "    plt.xlabel('Values')\n",
    "    plt.ylabel('Sample size')\n",
    "    plt.title('Box Plot of ' + distribution_name + \" distribution\")\n",
    "\n",
    "    if distribution_name == \"Cauchy\":\n",
    "        plt.xscale(\"symlog\")\n",
    "    \n",
    "    plt.savefig(f\"{distribution_name}_distribution\")"
   ],
   "metadata": {
    "collapsed": false
   },
   "id": "5139b434f41a4105",
   "execution_count": null
  },
  {
   "cell_type": "code",
   "outputs": [],
   "source": [
    "N_range = [20, 100]\n",
    "distributions = [[sps.norm, \"Normal\"],\n",
    "                 [sps.cauchy, \"Cauchy\"],\n",
    "                 [sps.t(3), \"Student's\"],\n",
    "                 [sps.uniform(loc=-3**0.5, scale = 2 * 3**0.5), \"Uniform\"],\n",
    "                 [sps.poisson(10), \"Poisson\"]]\n",
    "for distribution in distributions:\n",
    "    build_box_plot(N_range, distribution[0], distribution[1])"
   ],
   "metadata": {
    "collapsed": false
   },
   "id": "6656d3d100ac9061",
   "execution_count": null
  }
 ],
 "metadata": {
  "kernelspec": {
   "display_name": "Python 3",
   "language": "python",
   "name": "python3"
  },
  "language_info": {
   "codemirror_mode": {
    "name": "ipython",
    "version": 2
   },
   "file_extension": ".py",
   "mimetype": "text/x-python",
   "name": "python",
   "nbconvert_exporter": "python",
   "pygments_lexer": "ipython2",
   "version": "2.7.6"
  }
 },
 "nbformat": 4,
 "nbformat_minor": 5
}
