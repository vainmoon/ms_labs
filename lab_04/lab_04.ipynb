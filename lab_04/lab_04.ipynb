{
 "cells": [
  {
   "cell_type": "code",
   "execution_count": null,
   "id": "initial_id",
   "metadata": {
    "collapsed": true
   },
   "outputs": [],
   "source": [
    "import scipy.stats as sps\n",
    "import numpy as np\n",
    "import pandas as pd\n",
    "\n",
    "import matplotlib.pyplot as plt\n",
    "import matplotlib as mpl\n",
    "import seaborn as sns"
   ]
  },
  {
   "cell_type": "code",
   "outputs": [],
   "source": [
    "def convert_in_latex_number(number):\n",
    "    latex_string = \"{:.3e}\".format(number)  \n",
    "    latex_string = latex_string.replace('e', r' \\times 10^{') + '}'\n",
    "    return latex_string\n"
   ],
   "metadata": {
    "collapsed": false
   },
   "id": "94b4cf7ab97ffab0",
   "execution_count": null
  },
  {
   "cell_type": "code",
   "outputs": [],
   "source": [
    "def generate_sample(N_range, distribution):\n",
    "    samples = {}\n",
    "    for N in N_range:\n",
    "        sample = np.array(distribution.rvs(size=N))\n",
    "        samples[N] = sample\n",
    "    return samples"
   ],
   "metadata": {
    "collapsed": false
   },
   "id": "59a0d1f553271b55",
   "execution_count": null
  },
  {
   "cell_type": "code",
   "outputs": [],
   "source": [
    "def calculate_interval_normal_expected_value(sample, confidence_probability):\n",
    "    n = len(sample)\n",
    "    accuracy = (sample.var()**0.5 * sps.t((n - 1)).ppf((1 + confidence_probability) / 2)) / (n - 1)**0.5\n",
    "    return [sample.mean() - accuracy, sample.mean() + accuracy]"
   ],
   "metadata": {
    "collapsed": false
   },
   "id": "c1f225e1094f2dc",
   "execution_count": null
  },
  {
   "cell_type": "code",
   "outputs": [],
   "source": [
    "def calculate_interval_normal_standard_deviation(sample, confidence_probability):\n",
    "    n = len(sample)\n",
    "    return [sample.var()**0.5 * n**0.5 / (sps.chi2(n - 1).ppf((1 + confidence_probability) / 2))**0.5,\n",
    "            sample.var()**0.5 * n**0.5 / (sps.chi2(n - 1).ppf((1 - confidence_probability) / 2))**0.5]"
   ],
   "metadata": {
    "collapsed": false
   },
   "id": "e613ab1862780df6",
   "execution_count": null
  },
  {
   "cell_type": "code",
   "outputs": [],
   "source": [
    "def calculate_interval_expected_value(sample, confidence_probability):\n",
    "    n = len(sample)\n",
    "    accuracy = sample.var()**0.5 * sps.norm.ppf((1 + confidence_probability) / 2) / n ** 0.5\n",
    "    return [sample.mean() - accuracy, sample.mean() + accuracy]"
   ],
   "metadata": {
    "collapsed": false
   },
   "id": "3134aea8ac9fc0a2",
   "execution_count": null
  },
  {
   "cell_type": "code",
   "outputs": [],
   "source": [
    "def calculate_interval_standard_deviation(sample, confidence_probability):\n",
    "    n = len(sample)\n",
    "    return [\n",
    "        sample.var()**0.5 * (1 - (1 / (2 * n**0.5)) *  sps.norm.ppf((1 + confidence_probability) / 2) * (sps.kurtosis(sample) + 2)**0.5),\n",
    "        sample.var()**0.5 * (1 + (1 / (2 * n**0.5)) *  sps.norm.ppf((1 + confidence_probability) / 2) * (sps.kurtosis(sample) + 2)**0.5)\n",
    "    ]"
   ],
   "metadata": {
    "collapsed": false
   },
   "id": "874e93674ee7bbba",
   "execution_count": null
  },
  {
   "cell_type": "code",
   "outputs": [],
   "source": [
    "def calculate_intervals(samples, distribution, confidence_probability):\n",
    "    intervals = {}\n",
    "    for N, sample in samples.items():\n",
    "        if distribution[1] == \"Normal\":\n",
    "            intervals[N] = [calculate_interval_normal_expected_value(sample, confidence_probability),\n",
    "                            calculate_interval_normal_standard_deviation(sample, confidence_probability)]\n",
    "        else:\n",
    "            intervals[N] = [calculate_interval_expected_value(sample, confidence_probability),\n",
    "                            calculate_interval_standard_deviation(sample, confidence_probability)]\n",
    "    return intervals"
   ],
   "metadata": {
    "collapsed": false
   },
   "id": "a35c2adbc3d9ab41",
   "execution_count": null
  },
  {
   "cell_type": "code",
   "outputs": [],
   "source": [
    "def create_table_intervals(intervals, distribution):\n",
    "    table = \"\\\\begin{table}[H]\\n\\centering\\n\\\\begin{tabular}{|c|c|c|}\\n\\hline\"\n",
    "    for N, interval in intervals.items():\n",
    "        table += (f\"\\n\\t$n = {N}$ & $m$ & $\\sigma$ \\\\\\ \\hline \\n\\t & ${convert_in_latex_number(interval[0][0])} < m < \"\n",
    "                  f\"{convert_in_latex_number(interval[0][1])}$  & ${convert_in_latex_number(interval[1][0])} < \\sigma < {convert_in_latex_number(interval[1][1])}$ \\\\\\ \\hline\")\n",
    "    table += \"    \\n\\t\\end{tabular}\\n\\t\\caption{caption}\\n\\end{table}\"\n",
    "    print(table)"
   ],
   "metadata": {
    "collapsed": false
   },
   "id": "3da62acd16e0940",
   "execution_count": null
  },
  {
   "cell_type": "code",
   "outputs": [],
   "source": [
    "def plot_intervals(samples, intervals, distribution):\n",
    "    fig, ax = plt.subplots(1, 4, figsize=(16, 8))\n",
    "    i = 0\n",
    "    for N, sample in samples.items():\n",
    "        sns.histplot(data=sample, bins= (int((max(sample) - min(sample)) / 5) + 1) * 5, stat='density', ax=ax[i], label=f\"{distribution[1]} hyst n = {N}\")\n",
    "        height_segments = 0.7\n",
    "        ax[i].vlines(intervals[N][0][0], 0, height_segments, color='b', label='min \\u03BC, max \\u03BC')\n",
    "        ax[i].plot(intervals[N][0][0], height_segments, 'bo')\n",
    "        ax[i].vlines(intervals[N][0][1], 0, height_segments, color='b')\n",
    "        ax[i].plot(intervals[N][0][1], height_segments, 'bo')\n",
    "    \n",
    "        ax[i].vlines(intervals[N][0][0] - intervals[N][1][1], 0, height_segments, color='r', label='min \\u03BC - max\\u03C3, max \\u03BC + max\\u03C3')\n",
    "        ax[i].plot(intervals[N][0][0] - intervals[N][1][1], height_segments, 'ro')\n",
    "        ax[i].vlines(intervals[N][0][1] + intervals[N][1][1], 0, height_segments, color='r')\n",
    "        ax[i].plot(intervals[N][0][1] + intervals[N][1][1], height_segments, 'ro')\n",
    "        i += 1\n",
    "\n",
    "    ax[2].hlines(1.1, intervals[20][0][0], intervals[20][0][1], color='b', linewidth=3, label=f'\\u03BC interval n = {20}')\n",
    "    ax[2].hlines(1.2, intervals[100][0][0], intervals[100][0][1], color='r', linewidth=3, label=f'\\u03BC interval n = {100}')\n",
    "    ax[3].hlines(1.1, intervals[20][1][0], intervals[20][1][1], color='b', linewidth=3, label=f'\\u03C3 interval n = {20}')\n",
    "    ax[3].hlines(1.2, intervals[100][1][0], intervals[100][1][1], color='r', linewidth=3, label=f'\\u03C3 interval n = {100}')\n",
    "        \n",
    "    ax[2].set_ylim(1, 1.3)\n",
    "    ax[3].set_ylim(1, 1.3)\n",
    "    if distribution[1] == \"Cauchy\":\n",
    "        ax[0].set_xscale(\"symlog\")\n",
    "        ax[1].set_xscale(\"symlog\")\n",
    "        ax[2].set_xscale(\"symlog\")\n",
    "        ax[3].set_xscale(\"symlog\")\n",
    "\n",
    "    ax[0].legend(loc='upper right')\n",
    "    ax[1].legend(loc='upper right')\n",
    "    ax[2].legend(loc='upper right')\n",
    "    ax[3].legend(loc='upper right')\n",
    "    plt.savefig(f\"{distribution[1]}_distribution\")"
   ],
   "metadata": {
    "collapsed": false
   },
   "id": "8e65f18ae582e6db",
   "execution_count": null
  },
  {
   "cell_type": "code",
   "outputs": [],
   "source": [
    "distributions = [[sps.norm, \"Normal\"],\n",
    "                 [sps.uniform(loc=-3**0.5, scale = 2 * 3**0.5), \"Uniform\"]\n",
    "                ]\n",
    "N_range = [20, 100]\n",
    "confidence_probability = 0.95\n",
    "for distribution in distributions:\n",
    "    samples = generate_sample(N_range, distribution[0])\n",
    "    intervals = calculate_intervals(samples, distribution, confidence_probability)\n",
    "    create_table_intervals(intervals, distribution)\n",
    "    plot_intervals(samples, intervals, distribution)"
   ],
   "metadata": {
    "collapsed": false
   },
   "id": "e33c224fc3918fc5",
   "execution_count": null
  }
 ],
 "metadata": {
  "kernelspec": {
   "display_name": "Python 3",
   "language": "python",
   "name": "python3"
  },
  "language_info": {
   "codemirror_mode": {
    "name": "ipython",
    "version": 2
   },
   "file_extension": ".py",
   "mimetype": "text/x-python",
   "name": "python",
   "nbconvert_exporter": "python",
   "pygments_lexer": "ipython2",
   "version": "2.7.6"
  }
 },
 "nbformat": 4,
 "nbformat_minor": 5
}
