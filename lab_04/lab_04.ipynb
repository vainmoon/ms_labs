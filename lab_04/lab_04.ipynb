{
 "cells": [
  {
   "cell_type": "code",
   "execution_count": null,
   "id": "initial_id",
   "metadata": {
    "collapsed": true
   },
   "outputs": [],
   "source": [
    "import scipy.stats as sps\n",
    "import numpy as np\n",
    "import pandas as pd\n",
    "\n",
    "import matplotlib.pyplot as plt\n",
    "import matplotlib as mpl\n",
    "import seaborn as sns\n",
    "from prometheus_client import samples"
   ]
  },
  {
   "cell_type": "code",
   "outputs": [],
   "source": [
    "def generate_sample(N_range, distribution):\n",
    "    samples = {}\n",
    "    for N in N_range:\n",
    "        sample = np.array(distribution.rvs(size=N))\n",
    "        samples[N] = sample\n",
    "    return samples\n"
   ],
   "metadata": {
    "collapsed": false
   },
   "id": "59a0d1f553271b55",
   "execution_count": null
  },
  {
   "cell_type": "code",
   "outputs": [],
   "source": [
    "def calculate_interval_normal_expected_value(sample, confidence_probability):\n",
    "    n = len(sample)\n",
    "    accuracy = (sample.var() * sps.t((n - 1)).ppf((1 + confidence_probability) / 2)) / (n- 1)**0.5\n",
    "    return [sample.mean() - accuracy, sample.mean() + accuracy]"
   ],
   "metadata": {
    "collapsed": false
   },
   "id": "c1f225e1094f2dc",
   "execution_count": null
  },
  {
   "cell_type": "code",
   "outputs": [],
   "source": [
    "def calculate_interval_normal_standard_deviation(sample, confidence_probability):\n",
    "    n = len(sample)\n",
    "    return [sample.var() * n**0.5 / (sps.chi2(n - 1).ppf((1 + confidence_probability) / 2))**0.5,\n",
    "            sample.var() * n**0.5 / (sps.chi2(n - 1).ppf((1 - confidence_probability) / 2))**0.5]"
   ],
   "metadata": {
    "collapsed": false
   },
   "id": "e613ab1862780df6",
   "execution_count": null
  },
  {
   "cell_type": "code",
   "outputs": [],
   "source": [
    "def calculate_interval_expected_value(sample, confidence_probability):\n",
    "    n = len(sample)\n",
    "    accuracy = sample.var() * sps.norm.ppf((1 + confidence_probability) / 2) / n ** 0.5\n",
    "    return [sample.mean() - accuracy, sample.mean() + accuracy]"
   ],
   "metadata": {
    "collapsed": false
   },
   "id": "3134aea8ac9fc0a2",
   "execution_count": null
  },
  {
   "cell_type": "code",
   "outputs": [],
   "source": [
    "def calculate_interval_standard_deviation(sample, confidence_probability):\n",
    "    n = len(sample)\n",
    "    return [\n",
    "        sample.var() * (1 - (1 / (2 * n**0.5)) *  sps.norm.ppf((1 + confidence_probability) / 2) * (sps.kurtosis(sample) + 2)**0.5),\n",
    "        sample.var() * (1 + (1 / (2 * n**0.5)) *  sps.norm.ppf((1 + confidence_probability) / 2) * (sps.kurtosis(sample) + 2)**0.5)\n",
    "    ]"
   ],
   "metadata": {
    "collapsed": false
   },
   "id": "874e93674ee7bbba",
   "execution_count": null
  },
  {
   "cell_type": "code",
   "outputs": [],
   "source": [
    "def calculate_normal_intervals(confidence_probability, samples):\n",
    "    intervals = {}\n",
    "    for N, sample in samples.items():\n",
    "        intervals[N] =  (calculate_interval_normal_expected_value(sample, confidence_probability) +\n",
    "                         calculate_interval_normal_standard_deviation(sample, confidence_probability))\n",
    "    return intervals"
   ],
   "metadata": {
    "collapsed": false
   },
   "id": "3e8c865f1eea0ad2",
   "execution_count": null
  },
  {
   "cell_type": "code",
   "outputs": [],
   "source": [
    "def calculate_intervals(confidence_probability, samples):\n",
    "    intervals = {}\n",
    "    for N, sample in samples.items():\n",
    "        intervals[N] =  (calculate_interval_expected_value(sample, confidence_probability) + \n",
    "                         calculate_interval_standard_deviation(sample, confidence_probability))\n",
    "    return intervals"
   ],
   "metadata": {
    "collapsed": false
   },
   "id": "e880485208b04a4",
   "execution_count": null
  },
  {
   "cell_type": "code",
   "outputs": [],
   "source": [
    "def plot_estimate_distribution_parameters(samples, intervals, distribution):\n",
    "    fig, ax = plt.subplots(1, 4, figsize=(28, 8))\n",
    "    for i, sample_item in enumerate(samples.items()):\n",
    "        N, sample = sample_item\n",
    "        sns.histplot(data=sample, bins= (int((max(sample) - min(sample)) / 5) + 1) * 5, stat='density', ax=ax[i], label=f\"N(0, 1) hyst n = {N}\")\n",
    "\n",
    "        height_segments = 0.7\n",
    "        ax[i].vlines(intervals[N][0], 0, height_segments, color='b', label='min \\u03BC, max \\u03BC')\n",
    "        ax[i].plot(intervals[N][0], height_segments, 'bo')\n",
    "        ax[i].vlines(intervals[N][1], 0, height_segments, color='b')\n",
    "        ax[i].plot(intervals[N][1], height_segments, 'bo')\n",
    "\n",
    "        ax[i].vlines(intervals[N][0] - intervals[N][3], 0, height_segments, color='r', label='min \\u03BC - max\\u03C3, max \\u03BC + max\\u03C3')\n",
    "        ax[i].plot(intervals[N][0] - intervals[N][3], height_segments, 'ro')\n",
    "        ax[i].vlines(intervals[N][1] + intervals[N][3], 0, height_segments, color='r')\n",
    "        ax[i].plot(intervals[N][1] + intervals[N][3], height_segments, 'ro')\n",
    "\n",
    "        ax[2].hlines(1 + (i + 1) / 10, intervals[N][0], intervals[N][1], color='b', linewidth=3, label=f'\\u03BC interval n = {N}')\n",
    "        ax[3].hlines(1 + (i + 1) / 10, intervals[N][0] - intervals[N][3], intervals[N][1] + intervals[N][3], color='r', linewidth=3, label=f'\\u03C3 interval n = {N}')\n",
    "    ax[2].set_ylim(1, 1.3)\n",
    "    ax[3].set_ylim(1, 1.5)\n",
    "    if distribution[1] == \"Cauchy\":\n",
    "        ax[0].set_xscale(\"symlog\")\n",
    "        ax[1].set_xscale(\"symlog\")\n",
    "        ax[2].set_xscale(\"symlog\")\n",
    "        ax[3].set_xscale(\"symlog\")\n",
    "    \n",
    "    ax[0].legend(loc='upper right')\n",
    "    ax[1].legend(loc='upper right')\n",
    "    ax[2].legend(loc='upper right')\n",
    "    ax[3].legend(loc='upper right')\n",
    "    plt.savefig(f\"{distribution[1]}_distribution\")"
   ],
   "metadata": {
    "collapsed": false
   },
   "id": "341c5df783592581",
   "execution_count": null
  },
  {
   "cell_type": "code",
   "outputs": [],
   "source": [
    "distributions = [[sps.norm, \"Normal\"],\n",
    "                 [sps.cauchy, \"Cauchy\"],\n",
    "                 [sps.t(3), \"Student's\"],\n",
    "                 [sps.uniform(loc=-3**0.5, scale = 2 * 3**0.5), \"Uniform\"]\n",
    "                ]\n",
    "N_range = [20, 100]\n",
    "confidence_probability = 0.95\n",
    "for distribution in distributions:\n",
    "    samples = generate_sample(N_range, distribution[0])\n",
    "    if distribution[1] == \"Normal\":\n",
    "        intervals = calculate_normal_intervals(confidence_probability, samples)\n",
    "    else:\n",
    "        intervals = calculate_intervals(confidence_probability, samples)\n",
    "    plot_estimate_distribution_parameters(samples, intervals, distribution)"
   ],
   "metadata": {
    "collapsed": false
   },
   "id": "e33c224fc3918fc5",
   "execution_count": null
  }
 ],
 "metadata": {
  "kernelspec": {
   "display_name": "Python 3",
   "language": "python",
   "name": "python3"
  },
  "language_info": {
   "codemirror_mode": {
    "name": "ipython",
    "version": 2
   },
   "file_extension": ".py",
   "mimetype": "text/x-python",
   "name": "python",
   "nbconvert_exporter": "python",
   "pygments_lexer": "ipython2",
   "version": "2.7.6"
  }
 },
 "nbformat": 4,
 "nbformat_minor": 5
}
